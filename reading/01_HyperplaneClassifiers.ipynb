{
 "cells": [
  {
   "cell_type": "code",
   "execution_count": 1,
   "metadata": {},
   "outputs": [],
   "source": [
    "%matplotlib inline\n",
    "import numpy as np                  # Numeric Processing\n",
    "import matplotlib.pyplot as plt     # Graphs, Visuals\n",
    "from cvxopt import matrix, solvers  # Quadratic Program Solver"
   ]
  },
  {
   "cell_type": "markdown",
   "metadata": {},
   "source": [
    "## Problem Description and Definitions\n",
    "\n",
    "Consider a set of data, $x \\in \\mathcal{X}$ that has an associated binary label, $y_i \\in \\{\\pm 1\\}$. It is desired to generalize labels to data in $\\mathcal{X}$ where a label is not given. Accordingly, the data with labels can be seen as a training set to use some similarity in $\\mathcal{X}$ and in $\\{\\pm 1\\}$ to predict labels for data without them. \n",
    "\n",
    "Consider a *similarity measure*,\n",
    "\n",
    "\\begin{equation}\n",
    "k: \\mathcal{X} \\times \\mathcal{X} \\rightarrow \\mathbb{R}\n",
    "\\end{equation}\n",
    "\n",
    "A symmetric property is intuitive as there is no difference between two points withrespect to the order in which they are considered. A *canonical dot product* can serve as this similarity measure\n",
    "\n",
    "\\begin{equation}\n",
    "k(x, x') = \\langle \\mathbf x, \\mathbf x' \\rangle = \\sum_{i=1}^{N} [\\mathbf x]_i [\\mathbf x']_i.\n",
    "\\end{equation}\n",
    "\n",
    "Not all observations of $x$ support a dot product operations, so to describe in the problem with suitable generality, an additional transformation needs to be carried out in order to represent the problem in some *dot product space* $\\mathcal{H}$. Use the map\n",
    "\n",
    "\\begin{equation}\n",
    "\\Phi : \\mathcal X \\rightarrow \\mathcal H\n",
    "\\end{equation}\n",
    "\n",
    "This space $\\mathcal H$ that supports a similarity measure is called a *feature space*.\n",
    "\n",
    "## Hyperplane Classifier\n",
    "\n",
    "A hyperplane classifier is a classifier whose decision boundary is a hyperplane. Given a normal vector $\\mathbf w$ and offset $b$, the hyperplane in some dot product space $\\mathcal H$ is,\n",
    "\n",
    "\\begin{equation}\n",
    "\\langle \\mathbf w, \\mathbf x \\rangle + b = 0\n",
    "\\end{equation}\n",
    "\n",
    "The *decision function*, $f: \\mathbf x \\rightarrow y$, then, is\n",
    "\n",
    "\\begin{equation}\n",
    "f(\\mathbf x) = \\text{sgn}(\\langle \\mathbf w, \\mathbf x \\rangle + b)\n",
    "\\end{equation}\n",
    "\n",
    "Given a set of training points that are *linearly separable*, it is desired to find a $\\mathbf w$ and $b$ that describes an optimal hyperplane, such that the *empirical error* is minimum. The optimal hyperplane can be described as the plane with the maximum separation from a point on the plane and the training data points.\n",
    "\n",
    "\\begin{equation}\n",
    "\\underset{\\mathbf{w} \\in \\mathcal{H}, b \\in \\mathbb{R}}{\\operatorname{max}} \\min \\left\\{\\left\\|\\mathbf{x}-\\mathbf{x}_{i}\\right\\| | \\mathbf{x} \\in \\mathcal{H},\\langle\\mathbf{w}, \\mathbf{x}\\rangle+ b=0, i=1, \\ldots, m\\right\\}\n",
    "\\end{equation}"
   ]
  },
  {
   "cell_type": "code",
   "execution_count": 2,
   "metadata": {},
   "outputs": [
    {
     "data": {
      "image/png": "[encoded data removed]",
      "text/plain": [
       "<Figure size 576x576 with 1 Axes>"
      ]
     },
     "metadata": {
      "needs_background": "light"
     },
     "output_type": "display_data"
    }
   ],
   "source": [
    "N = 100        # Number of Points\n",
    "w = [1, 3]    # Hyperplane normal\n",
    "b = -2.5      # Offset\n",
    "\n",
    "# Observations\n",
    "x = np.random.rand(2, N)*2\n",
    "\n",
    "# Labels (Decision Function)\n",
    "labels = w[0]*x[0,:]+w[1]*x[1,:] + b < 0 # Hyperplane Inequality\n",
    "y = np.array(list(map(lambda x: int(x)*2 - 1, labels))) # Decision function\n",
    "\n",
    "# Plot Training Data\n",
    "plt.figure(figsize=(8,8))\n",
    "plt.scatter(x[0, y==1], x[1, y==1])\n",
    "plt.scatter(x[0, y==-1], x[1, y==-1])\n",
    "plt.legend(['y = 1', 'y = -1'])\n",
    "\n",
    "# Plot Linear Separator\n",
    "xx = np.linspace(0, 2, 5)\n",
    "yy = (-w[0]*xx - b)/w[1]\n",
    "plt.plot(xx, yy)\n",
    "\n",
    "# Plot hyperplane normal vector\n",
    "origin = xx[np.size(xx) // 2], yy[np.size(xx) // 2]\n",
    "plt.quiver(*origin, w[0], w[1], color=['r','b','g'], scale=21)\n",
    "plt.text(origin[0]+.1, origin[1]+.1, 'w')\n",
    "plt.axis('equal')\n",
    "plt.grid()\n",
    "plt.show()"
   ]
  },
  {
   "cell_type": "markdown",
   "metadata": {},
   "source": [
    "## Constrained Optimization Problem\n",
    "\n",
    "### Definition and Formulation\n",
    "\n",
    "Constrained optimization deals with optimizing an objective function, $\\tau(\\boldsymbol x)$, with respect to some variables which are constrained by some equality or inequality constraints. \n",
    "\n",
    "\\begin{equation}\n",
    "\\begin{array}{rl}{\\min } & {\\tau(\\mathbf{x})} \\\\ {\\text { subject to }} & {g_{i}(\\mathbf{x})=c_{i} \\quad \\text { for } i=1, \\ldots, n} \\\\ {} & {h_{j}(\\mathbf{x}) \\geqq d_{j} \\quad \\text { for } j=1, \\ldots, m}\\end{array}\n",
    "\\end{equation}\n",
    "\n",
    "For the hyperplane classifier, we have only one inequality constraint,\n",
    "\n",
    "\\begin{equation}\n",
    "\\begin{array}{l}{\\underset{\\mathbf{w} \\in \\mathcal{H}, b \\in \\mathbb{R}}{\\operatorname{minimize}} \\tau(\\mathbf{w})=\\frac{1}{2}\\|\\mathbf{w}\\|^{2}} \\\\ {\\text { subject to } y_{i}\\left\\langle\\left\\langle\\mathbf{w}, \\mathbf{x}_{i}\\right\\rangle+ b\\right) \\geq 1 \\text { for all } i=1, \\ldots, m}\\end{array}\n",
    "\\end{equation}\n",
    "\n",
    "### Solution via Lagrange Multipliers\n",
    "\n",
    "A constrained problem of this nature can be converted to a form where the derivative test of an unconstrained problem can be applied. Consider a single constraint\n",
    "\n",
    "\\begin{equation}\n",
    "\\begin{array}{l}{\\text { max } f(x, y)} \\\\ {\\text { subject to } g(x, y)=0}\\end{array}\n",
    "\\end{equation}\n",
    "\n",
    "A *Lagrange function* can be created as\n",
    "\n",
    "\\begin{equation}\n",
    "\\mathcal{L}(x, y, \\lambda)=f(x, y)-\\lambda g(x, y)\n",
    "\\end{equation}\n",
    "\n",
    "where $\\lambda$ is the *Lagrange multiplier*. In this case, $x$ and $y$ are known as *primal variables*, whereas $\\lambda$ is a *dual variable*. This permits the derivative test\n",
    "\n",
    "\\begin{equation}\n",
    "\\nabla_{x, y, \\lambda} \\mathcal{L}(x, y, \\lambda)=0 \\Longleftrightarrow\\left\\{\\begin{array}{l}{\\nabla_{x, y} f(x, y)=\\lambda \\nabla_{x, y} g(x, y)} \\\\ {g(x, y)=0}\\end{array}\\right.\n",
    "\\end{equation}\n",
    "\n",
    "In the case of the hyperplane classifier, the Lagrange function is\n",
    "\n",
    "\\begin{equation}\n",
    "L(\\mathbf{w}, b, \\boldsymbol{\\alpha})=\\frac{1}{2}\\|\\mathbf{w}\\|^{2}-\\sum_{i=1}^{m} \\alpha_{i}\\left(y_{i}\\left(\\left\\langle\\mathbf{x}_{i}, \\mathbf{w}\\right\\rangle+ b\\right)-1\\right)\n",
    "\\end{equation}\n",
    "\n",
    "Note that there is a Lagrange multiplier for each dimension of the constraint equality. When the constraint is violated, it is always possible to increase $\\mathcal{L}$. Solve for the critical points\n",
    "\n",
    "\\begin{equation}\n",
    "\\nabla \\mathcal{L}=\\left[\\begin{array}{c}{ \\frac{\\partial \\mathcal{L}}{\\partial \\mathbf w}}  \\\\ {\\frac{\\partial \\mathcal{L}}{\\partial b}}\\end{array}\\right] = \\boldsymbol 0\n",
    "\\end{equation}\n",
    "\n",
    "meaning that\n",
    "\n",
    "\\begin{equation}\n",
    "\\begin{aligned}\n",
    "{\\sum_{i=1}^{m} \\alpha_{i} y_{i} = 0} \\\\  {\\mathbf{w} = \\sum_{i=1}^{m} \\alpha_{i} y_{i} \\mathbf{x}_{i}}\n",
    "\\end{aligned}\n",
    "\\end{equation}\n",
    "\n",
    "By substitution,\n",
    "\n",
    "\\begin{equation}\n",
    "\\begin{array}{l}{\\underset{\\alpha \\in \\mathbb{R}^{m}}{\\operatorname{maximize}} W(\\boldsymbol{\\alpha})=\\sum_{i=1}^{m} \\alpha_{i}-\\frac{1}{2} \\sum_{i, j=1}^{m} \\alpha_{i} \\alpha_{j} y_{i} y_{j}\\left\\langle\\mathbf{x}_{i}, \\mathbf{x}_{j}\\right\\rangle} \\\\ {\\text { subject to } \\alpha_{i} \\geq 0 \\text { for all } i=1, \\ldots, m \\text { and } \\sum_{i=1}^{m} \\alpha_{i} y_{i}=0}\\end{array}\n",
    "\\end{equation}\n",
    "\n",
    "This expression can be solved as a quadratic programming problem.\n",
    "\n",
    "### Quadratic Programming Problem\n",
    "\n",
    "The *quadratic program* assumes the form\n",
    "\n",
    "\\begin{equation}\n",
    "\\begin{aligned} \\min _{x} & \\frac{1}{2} x^{\\top} P x+q^{\\top} x \\\\ \\text { subject to } & G x \\preceq h \\\\ & A x=b \\end{aligned}\n",
    "\\end{equation}\n",
    "\n",
    "Re-expressing the hyperplane classifier in this form allows it to be put into common quadratic problem solvers (CVXOPT in this case). Note that the standard form minimizes the expression, so the terms need to be inverted.\n",
    "\n",
    "Define a vector of $M$ ones as $\\mathbb{1}_M \\in \\mathbb{R}^{M \\times 1}$. The matrices are\n",
    "\n",
    "\\begin{equation}\n",
    "\\begin{cases}\n",
    "\\mathbf q = -\\mathbb{1}_M \\\\\n",
    "\\mathbf P_{i, j} = y_i y_j \\langle \\mathbf x_i, \\mathbf x_j \\rangle \\\\\n",
    "\\mathbf G = -I_M \\\\\n",
    "b = 0 \\\\\n",
    "\\mathbf A = y^T\n",
    "\\end{cases}\n",
    "\\end{equation}"
   ]
  },
  {
   "cell_type": "code",
   "execution_count": 6,
   "metadata": {},
   "outputs": [
    {
     "name": "stdout",
     "output_type": "stream",
     "text": [
      "Running CVXOPT QP Solver...\n",
      "     pcost       dcost       gap    pres   dres\n",
      " 0: -2.7791e+01 -5.9399e+01  4e+02  2e+01  2e+00\n",
      " 1: -6.7927e+01 -7.9173e+01  2e+02  9e+00  1e+00\n",
      " 2: -1.5957e+02 -1.6996e+02  2e+02  9e+00  1e+00\n",
      " 3: -7.9036e+02 -7.6919e+02  2e+02  8e+00  9e-01\n",
      " 4: -8.7161e+02 -8.4626e+02  3e+02  8e+00  9e-01\n",
      " 5: -1.0594e+03 -1.0229e+03  5e+02  8e+00  9e-01\n",
      " 6: -9.3850e+02 -9.5891e+02  8e+02  6e+00  6e-01\n",
      " 7: -6.5930e+02 -7.1802e+02  3e+02  1e+00  1e-01\n",
      " 8: -5.8695e+02 -5.8889e+02  3e+00  6e-03  7e-04\n",
      " 9: -5.8718e+02 -5.8720e+02  3e-02  6e-05  7e-06\n",
      "10: -5.8718e+02 -5.8718e+02  3e-04  6e-07  7e-08\n",
      "11: -5.8718e+02 -5.8718e+02  3e-06  6e-09  7e-10\n",
      "Optimal solution found.\n"
     ]
    }
   ],
   "source": [
    "# number of data points\n",
    "m = np.shape(x)[1]\n",
    "\n",
    "# Put into common matrix form for QP solver\n",
    "# a matrix() conversion is necessary (see https://courses.csail.mit.edu/6.867/wiki/images/a/a7/Qp-cvxopt.pdf)\n",
    "q = matrix(-np.ones((m, 1)), tc='d')\n",
    "P = np.zeros((m, m))\n",
    "\n",
    "for i in range(0, m):\n",
    "    for j in range(0, m):\n",
    "        P[i, j] = y[i]*y[j]*np.dot(x[:, i],x[:, j])\n",
    "        \n",
    "P = matrix(P, tc='d')\n",
    "G = matrix(-np.eye(m), tc='d')\n",
    "h = matrix(np.zeros((m, 1)), tc='d')\n",
    "bb = matrix(0, tc='d')\n",
    "A = np.array(y, ndmin=2)\n",
    "A = matrix(A, tc='d')\n",
    "\n",
    "# Run solver      \n",
    "print(\"Running CVXOPT QP Solver...\")\n",
    "sol = solvers.qp(P, q, G, h, A, bb)\n",
    "alpha = np.array(sol['x'])"
   ]
  },
  {
   "cell_type": "code",
   "execution_count": 5,
   "metadata": {},
   "outputs": [
    {
     "name": "stdout",
     "output_type": "stream",
     "text": [
      "Angle Between True w and Solved w: 0.29457370916903874 (deg)\n"
     ]
    },
    {
     "data": {
      "image/png": "[encoded data removed]",
      "text/plain": [
       "<Figure size 432x288 with 1 Axes>"
      ]
     },
     "metadata": {
      "needs_background": "light"
     },
     "output_type": "display_data"
    }
   ],
   "source": [
    "# Recover the w, check that its direction is parallel to the original\n",
    "w_r = 0\n",
    "for obs, idx in zip(x.T, range(0, m)):\n",
    "    w_r += alpha[idx]*y[idx]*obs\n",
    "    \n",
    "w_r /= np.linalg.norm(w_r) \n",
    "w_r *= np.linalg.norm(w)\n",
    "\n",
    "angle_between = np.arccos(np.dot(w, w_r)/(np.sqrt(np.dot(w_r, w_r))*np.sqrt(np.dot(w,w))))\n",
    "if angle_between > np.pi/2:\n",
    "    w_r *= -1\n",
    "    angle_between = np.pi - angle_between\n",
    "print('Angle Between True w and Solved w: %s (deg)' % str(angle_between*180/np.pi))\n",
    "\n",
    "# Plot Training Data\n",
    "plt.figure()\n",
    "# Plot hyperplane normal vector\n",
    "origin = [[0], [0]]\n",
    "plt.quiver(*origin, [w[0], w_r[0]], [w[1], w_r[1]], color=['r','b','g'], scale=21)\n",
    "#plt.text(1, 0, 'w')\n",
    "#plt.text(w_r[0], w[1], 'w (solved)')\n",
    "plt.axis('equal')\n",
    "plt.grid()\n",
    "plt.show()"
   ]
  },
  {
   "cell_type": "code",
   "execution_count": null,
   "metadata": {},
   "outputs": [],
   "source": []
  }
 ],
 "metadata": {
  "kernelspec": {
   "display_name": "Python [conda env:ml_env] *",
   "language": "python",
   "name": "conda-env-ml_env-py"
  },
  "language_info": {
   "codemirror_mode": {
    "name": "ipython",
    "version": 3
   },
   "file_extension": ".py",
   "mimetype": "text/x-python",
   "name": "python",
   "nbconvert_exporter": "python",
   "pygments_lexer": "ipython3",
   "version": "3.7.4"
  }
 },
 "nbformat": 4,
 "nbformat_minor": 2
}
