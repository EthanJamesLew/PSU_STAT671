{
 "cells": [
  {
   "cell_type": "code",
   "execution_count": 1,
   "metadata": {},
   "outputs": [],
   "source": [
    "#%matplotlib notebook\n",
    "import sys\n",
    "sys.path.append('../code')\n",
    "\n",
    "from mpl_toolkits.mplot3d import Axes3D\n",
    "from krr import KernelRidgeRegression, krr, k_polynomial, k_gaussian, k_tanh\n",
    "from label_data import LabelData\n",
    "import numpy as np\n",
    "import matplotlib.pyplot as plt\n",
    "from mnist_load import *\n",
    "\n",
    "import time"
   ]
  },
  {
   "cell_type": "code",
   "execution_count": 2,
   "metadata": {},
   "outputs": [],
   "source": [
    "usage = 0.1\n",
    "ratio = 0.5\n",
    "s0, s1 = 1,7\n",
    "mnist, names = load_mnist_data(s0, s1, ratio, usage)"
   ]
  },
  {
   "cell_type": "code",
   "execution_count": 3,
   "metadata": {},
   "outputs": [
    {
     "name": "stdout",
     "output_type": "stream",
     "text": [
      "MNIST Training Dimensions: (758, 784)\n",
      "MNIST Validation Dimensions: (759, 784)\n"
     ]
    }
   ],
   "source": [
    "print(\"MNIST Training Dimensions: (%d, %d)\\nMNIST Validation Dimensions: (%d, %d)\" % (*mnist.training[0].shape, \n",
    "                                                                                      *mnist.validation[0].shape))"
   ]
  },
  {
   "cell_type": "code",
   "execution_count": 4,
   "metadata": {},
   "outputs": [
    {
     "data": {
      "image/png": "[encoded data removed]",
      "text/plain": [
       "<Figure size 432x288 with 1 Axes>"
      ]
     },
     "metadata": {
      "needs_background": "light"
     },
     "output_type": "display_data"
    }
   ],
   "source": [
    "fig, ax = plt.subplots()\n",
    "view_digits(ax, mnist.training[0][0:256], 16, 16)\n",
    "plt.title(\"Some Training Data for Digits %d and %d\" % (s0, s1))\n",
    "plt.show()"
   ]
  },
  {
   "cell_type": "code",
   "execution_count": 5,
   "metadata": {},
   "outputs": [
    {
     "name": "stdout",
     "output_type": "stream",
     "text": [
      "(758,) (759,)\n",
      "Training Time: 1.256 s\n"
     ]
    }
   ],
   "source": [
    "ld = LabelData()\n",
    "print(mnist.training[1].shape, mnist.validation[1].shape)\n",
    "ld.add_data(mnist.training[0], mnist.training[1])\n",
    "\n",
    "t0 = time.time()\n",
    "kregr = KernelRidgeRegression(ld, k=lambda x,y: k_polynomial(x, y, 2), l=.0001)\n",
    "t1 = time.time()\n",
    "total = t1-t0\n",
    "print(\"Training Time: %2.3f s\" % total)\n"
   ]
  },
  {
   "cell_type": "code",
   "execution_count": 6,
   "metadata": {},
   "outputs": [
    {
     "name": "stdout",
     "output_type": "stream",
     "text": [
      "Validation Time: 2.668 s\n",
      "Risk Time: 2.549 s\n",
      "[-1. -1.  1. -1.  1. -1. -1.  1. -1.  1.  1. -1. -1. -1. -1.  1. -1.  1.\n",
      " -1. -1. -1. -1. -1.  1. -1. -1.  1.  1. -1.  1.  1. -1. -1.  1. -1.  1.\n",
      " -1.  1. -1. -1. -1. -1.  1.  1.  1.  1.  1.  1.  1. -1.  1.  1. -1.  1.\n",
      " -1.  1.  1. -1. -1. -1. -1.  1. -1.  1.  1. -1. -1. -1. -1. -1. -1. -1.\n",
      "  1. -1.  1. -1.  1.  1.  1. -1.  1.  1. -1. -1. -1.  1. -1.  1.  1. -1.\n",
      " -1. -1. -1.  1.  1. -1. -1. -1.  1.  1. -1. -1. -1.  1. -1. -1. -1. -1.\n",
      " -1.  1. -1.  1.  1.  1. -1. -1. -1. -1. -1. -1. -1. -1. -1.  1. -1. -1.\n",
      " -1. -1. -1.  1.  1. -1. -1.  1. -1.  1.  1.  1.  1.  1. -1. -1. -1. -1.\n",
      "  1.  1. -1. -1.  1. -1.  1. -1.  1. -1. -1.  1. -1. -1. -1.  1.  1. -1.\n",
      " -1.  1. -1.  1.  1. -1. -1.  1.  1.  1. -1. -1. -1. -1. -1. -1. -1. -1.\n",
      "  1. -1. -1. -1. -1.  1. -1. -1. -1.  1. -1. -1.  1. -1. -1. -1. -1. -1.\n",
      " -1.  1.  1.  1. -1. -1. -1. -1. -1. -1.  1. -1.  1. -1.  1.  1.  1. -1.\n",
      " -1.  1.  1.  1. -1. -1.  1.  1. -1. -1.  1. -1. -1. -1. -1. -1.  1.  1.\n",
      "  1.  1.  1. -1.  1. -1.  1.  1.  1. -1.  1.  1.  1.  1.  1.  1.  1.  1.\n",
      " -1.  1.  1. -1. -1. -1. -1. -1.  1.  1.  1. -1. -1.  1. -1.  1. -1. -1.\n",
      " -1.  1.  1.  1. -1. -1.  1.  1. -1. -1. -1.  1. -1. -1. -1.  1.  1. -1.\n",
      "  1. -1.  1. -1.  1. -1. -1. -1. -1.  1.  1. -1.  1. -1. -1.  1.  1.  1.\n",
      " -1. -1. -1. -1. -1.  1. -1. -1. -1.  1. -1.  1. -1. -1. -1. -1. -1.  1.\n",
      " -1. -1.  1.  1.  1.  1.  1.  1. -1. -1.  1. -1.  1.  1. -1.  1. -1.  1.\n",
      " -1.  1.  1.  1. -1. -1.  1.  1.  1.  1. -1. -1.  1.  1. -1.  1. -1. -1.\n",
      "  1. -1. -1. -1. -1.  1. -1. -1.  1.  1.  1. -1.  1. -1. -1.  1. -1.  1.\n",
      "  1.  1.  1.  1.  1. -1. -1.  1. -1.  1. -1.  1. -1. -1. -1.  1. -1.  1.\n",
      " -1.  1.  1.  1.  1.  1. -1. -1.  1. -1. -1. -1. -1. -1.  1. -1.  1.  1.\n",
      "  1.  1.  1.  1. -1. -1. -1.  1.  1. -1. -1.  1. -1. -1. -1.  1.  1. -1.\n",
      "  1.  1.  1.  1.  1. -1. -1.  1. -1.  1.  1.  1. -1.  1.  1.  1. -1. -1.\n",
      "  1. -1.  1.  1.  1. -1.  1.  1.  1.  1. -1. -1. -1.  1.  1.  1.  1.  1.\n",
      " -1. -1.  1. -1. -1. -1. -1.  1. -1. -1. -1. -1.  1.  1.  1. -1.  1. -1.\n",
      " -1. -1.  1. -1. -1.  1. -1.  1.  1. -1.  1.  1.  1.  1.  1.  1.  1. -1.\n",
      " -1.  1.  1.  1. -1. -1. -1.  1.  1. -1.  1. -1. -1.  1. -1.  1. -1. -1.\n",
      " -1. -1. -1.  1. -1. -1. -1.  1.  1. -1.  1. -1.  1. -1. -1. -1.  1. -1.\n",
      "  1.  1.  1.  1. -1.  1.  1.  1.  1. -1. -1. -1. -1. -1. -1.  1.  1.  1.\n",
      " -1. -1. -1. -1. -1. -1.  1.  1. -1.  1. -1. -1. -1. -1.  1. -1. -1. -1.\n",
      "  1. -1. -1. -1. -1.  1.  1. -1. -1. -1. -1. -1. -1. -1. -1. -1.  1. -1.\n",
      " -1. -1. -1. -1. -1.  1.  1. -1. -1. -1. -1.  1.  1. -1. -1.  1. -1.  1.\n",
      " -1. -1. -1.  1. -1.  1. -1.  1.  1.  1.  1.  1. -1. -1.  1. -1.  1.  1.\n",
      "  1. -1. -1.  1. -1. -1. -1. -1. -1.  1. -1.  1. -1.  1. -1. -1. -1. -1.\n",
      " -1. -1. -1. -1.  1. -1. -1.  1.  1.  1. -1.  1. -1.  1.  1.  1. -1. -1.\n",
      "  1.  1. -1. -1.  1. -1.  1.  1. -1.  1. -1.  1.  1.  1. -1.  1.  1.  1.\n",
      " -1. -1. -1. -1. -1.  1.  1. -1. -1. -1. -1.  1.  1. -1.  1.  1. -1. -1.\n",
      " -1.  1.  1.  1.  1.  1. -1. -1. -1. -1. -1.  1. -1.  1. -1. -1.  1. -1.\n",
      "  1. -1. -1. -1. -1.  1.  1.  1. -1.  1.  1.  1. -1. -1.  1. -1. -1.  1.\n",
      "  1. -1. -1. -1.  1.  1.  1. -1.  1. -1. -1.  1. -1.  1. -1. -1.  1. -1.\n",
      " -1. -1.]\n"
     ]
    }
   ],
   "source": [
    "t0 = time.time()\n",
    "y_v = kregr(mnist.validation[0])\n",
    "y_v[y_v > 0.5]= 1\n",
    "y_v[y_v < 0.5]= -1\n",
    "t1 = time.time()\n",
    "total = t1-t0\n",
    "print(\"Validation Time: %2.3f s\" % total)\n",
    "\n",
    "t0 = time.time()\n",
    "y_t = kregr(mnist.training[0])\n",
    "y_t[y_t > 0.5]= 1\n",
    "y_t[y_t < 0.5]= -1\n",
    "t1 = time.time()\n",
    "total = t1-t0\n",
    "print(\"Risk Time: %2.3f s\" % total)\n",
    "print(y_t)"
   ]
  },
  {
   "cell_type": "code",
   "execution_count": 8,
   "metadata": {},
   "outputs": [
    {
     "name": "stdout",
     "output_type": "stream",
     "text": [
      "Empirical Risk: 27.63852%\n",
      "Classification Error: 28.19499%\n"
     ]
    }
   ],
   "source": [
    "error = risk(mnist.validation[1], y_v)\n",
    "erisk = risk(mnist.training[1], y_t)\n",
    "\n",
    "print(\"Empirical Risk: %2.5f%%\" % (erisk*100))\n",
    "print(\"Classification Error: %2.5f%%\" % (error*100))"
   ]
  },
  {
   "cell_type": "code",
   "execution_count": 9,
   "metadata": {},
   "outputs": [],
   "source": [
    "def classify_test(s0, s1, usage, ratio, k):\n",
    "    mnist, names = load_mnist_data(s0, s1, ratio, usage)\n",
    "\n",
    "    ld = LabelData()\n",
    "    ld.add_data(mnist.training[0], mnist.training[1])\n",
    "\n",
    "    t0 = time.time()\n",
    "    kregr = KernelRidgeRegression(ld, k=k, l=.0001)\n",
    "    t1 = time.time()\n",
    "    ttotal = t1 - t0\n",
    "\n",
    "    t0 = time.time()\n",
    "    y_v = np.array([krr(ld, kregr._alpha, k, x) for x in mnist.validation[0]])\n",
    "    y_v[y_v > 0.5] = 1\n",
    "    y_v[y_v < 0.5] = 0\n",
    "    t1 = time.time()\n",
    "    vtotal = t1 - t0\n",
    "\n",
    "    t0 = time.time()\n",
    "    y_t = np.array([krr(ld, kregr._alpha, k, x) for x in mnist.training[0]])\n",
    "    y_t[y_t > 0.5] = 1\n",
    "    y_t[y_t < 0.5] = 0\n",
    "    t1 = time.time()\n",
    "    rtotal = t1 - t0\n",
    "\n",
    "    error = risk(mnist.validation[1], y_v)\n",
    "    erisk = risk(mnist.training[1], y_t)\n",
    "\n",
    "    return {\"error\": error, \"risk\": erisk, \"training time\": ttotal, \"validation time\": vtotal, \"risk time\": rtotal,\n",
    "            \"training size\": mnist.training[1].shape[0], \"validation size\": mnist.validation[1].shape[0]}"
   ]
  },
  {
   "cell_type": "code",
   "execution_count": 10,
   "metadata": {},
   "outputs": [
    {
     "name": "stdout",
     "output_type": "stream",
     "text": [
      "& 0& 1& 2& 3& 4& 5& 6& 7& 8& 9 \\\\ \\hline\n",
      "0 & & & & & & & & & &\\\\ \\hline\n",
      "1 &0.45  & & & & & & & & &\\\\ \\hline\n",
      "2 &3.59  &4.04  & & & & & & & &\\\\ \\hline\n",
      "3 &2.37  &1.11  &2.36  & & & & & & &\\\\ \\hline\n"
     ]
    },
    {
     "ename": "KeyboardInterrupt",
     "evalue": "",
     "output_type": "error",
     "traceback": [
      "\u001b[1;31m---------------------------------------------------------------------------\u001b[0m",
      "\u001b[1;31mKeyboardInterrupt\u001b[0m                         Traceback (most recent call last)",
      "\u001b[1;32m<ipython-input-10-5baf0f83e703>\u001b[0m in \u001b[0;36m<module>\u001b[1;34m\u001b[0m\n\u001b[0;32m      5\u001b[0m     \u001b[1;32mfor\u001b[0m \u001b[0ms1\u001b[0m \u001b[1;32min\u001b[0m \u001b[0mrange\u001b[0m\u001b[1;33m(\u001b[0m\u001b[1;36m0\u001b[0m\u001b[1;33m,\u001b[0m \u001b[1;36m10\u001b[0m\u001b[1;33m)\u001b[0m\u001b[1;33m:\u001b[0m\u001b[1;33m\u001b[0m\u001b[1;33m\u001b[0m\u001b[0m\n\u001b[0;32m      6\u001b[0m         \u001b[1;32mif\u001b[0m \u001b[0ms1\u001b[0m \u001b[1;33m<\u001b[0m \u001b[0ms0\u001b[0m\u001b[1;33m:\u001b[0m\u001b[1;33m\u001b[0m\u001b[1;33m\u001b[0m\u001b[0m\n\u001b[1;32m----> 7\u001b[1;33m             \u001b[0mres\u001b[0m \u001b[1;33m=\u001b[0m \u001b[0mclassify_test\u001b[0m\u001b[1;33m(\u001b[0m\u001b[0ms0\u001b[0m\u001b[1;33m,\u001b[0m \u001b[0ms1\u001b[0m\u001b[1;33m,\u001b[0m \u001b[1;36m0.03\u001b[0m\u001b[1;33m,\u001b[0m \u001b[1;36m0.5\u001b[0m\u001b[1;33m,\u001b[0m \u001b[1;32mlambda\u001b[0m \u001b[0mx\u001b[0m\u001b[1;33m,\u001b[0m \u001b[0my\u001b[0m\u001b[1;33m:\u001b[0m \u001b[0mk_polynomial\u001b[0m\u001b[1;33m(\u001b[0m\u001b[0mx\u001b[0m\u001b[1;33m,\u001b[0m \u001b[0my\u001b[0m\u001b[1;33m,\u001b[0m \u001b[1;36m2\u001b[0m\u001b[1;33m)\u001b[0m\u001b[1;33m)\u001b[0m\u001b[1;33m\u001b[0m\u001b[1;33m\u001b[0m\u001b[0m\n\u001b[0m\u001b[0;32m      8\u001b[0m             \u001b[0mcerror\u001b[0m\u001b[1;33m[\u001b[0m\u001b[0ms0\u001b[0m\u001b[1;33m,\u001b[0m \u001b[0ms1\u001b[0m\u001b[1;33m]\u001b[0m \u001b[1;33m=\u001b[0m \u001b[0mres\u001b[0m\u001b[1;33m[\u001b[0m\u001b[1;34m'error'\u001b[0m\u001b[1;33m]\u001b[0m\u001b[1;33m\u001b[0m\u001b[1;33m\u001b[0m\u001b[0m\n\u001b[0;32m      9\u001b[0m             \u001b[0mrow_str\u001b[0m \u001b[1;33m+=\u001b[0m \u001b[1;34m\"%2.2f \"\u001b[0m \u001b[1;33m%\u001b[0m \u001b[1;33m(\u001b[0m\u001b[0mcerror\u001b[0m\u001b[1;33m[\u001b[0m\u001b[0ms0\u001b[0m\u001b[1;33m,\u001b[0m \u001b[0ms1\u001b[0m\u001b[1;33m]\u001b[0m\u001b[1;33m*\u001b[0m\u001b[1;36m100\u001b[0m\u001b[1;33m)\u001b[0m\u001b[1;33m\u001b[0m\u001b[1;33m\u001b[0m\u001b[0m\n",
      "\u001b[1;32m<ipython-input-9-2c938008bf02>\u001b[0m in \u001b[0;36mclassify_test\u001b[1;34m(s0, s1, usage, ratio, k)\u001b[0m\n\u001b[0;32m     11\u001b[0m \u001b[1;33m\u001b[0m\u001b[0m\n\u001b[0;32m     12\u001b[0m     \u001b[0mt0\u001b[0m \u001b[1;33m=\u001b[0m \u001b[0mtime\u001b[0m\u001b[1;33m.\u001b[0m\u001b[0mtime\u001b[0m\u001b[1;33m(\u001b[0m\u001b[1;33m)\u001b[0m\u001b[1;33m\u001b[0m\u001b[1;33m\u001b[0m\u001b[0m\n\u001b[1;32m---> 13\u001b[1;33m     \u001b[0my_v\u001b[0m \u001b[1;33m=\u001b[0m \u001b[0mnp\u001b[0m\u001b[1;33m.\u001b[0m\u001b[0marray\u001b[0m\u001b[1;33m(\u001b[0m\u001b[1;33m[\u001b[0m\u001b[0mkrr\u001b[0m\u001b[1;33m(\u001b[0m\u001b[0mld\u001b[0m\u001b[1;33m,\u001b[0m \u001b[0mkregr\u001b[0m\u001b[1;33m.\u001b[0m\u001b[0m_alpha\u001b[0m\u001b[1;33m,\u001b[0m \u001b[0mk\u001b[0m\u001b[1;33m,\u001b[0m \u001b[0mx\u001b[0m\u001b[1;33m)\u001b[0m \u001b[1;32mfor\u001b[0m \u001b[0mx\u001b[0m \u001b[1;32min\u001b[0m \u001b[0mmnist\u001b[0m\u001b[1;33m.\u001b[0m\u001b[0mvalidation\u001b[0m\u001b[1;33m[\u001b[0m\u001b[1;36m0\u001b[0m\u001b[1;33m]\u001b[0m\u001b[1;33m]\u001b[0m\u001b[1;33m)\u001b[0m\u001b[1;33m\u001b[0m\u001b[1;33m\u001b[0m\u001b[0m\n\u001b[0m\u001b[0;32m     14\u001b[0m     \u001b[0my_v\u001b[0m\u001b[1;33m[\u001b[0m\u001b[0my_v\u001b[0m \u001b[1;33m>\u001b[0m \u001b[1;36m0.5\u001b[0m\u001b[1;33m]\u001b[0m \u001b[1;33m=\u001b[0m \u001b[1;36m1\u001b[0m\u001b[1;33m\u001b[0m\u001b[1;33m\u001b[0m\u001b[0m\n\u001b[0;32m     15\u001b[0m     \u001b[0my_v\u001b[0m\u001b[1;33m[\u001b[0m\u001b[0my_v\u001b[0m \u001b[1;33m<\u001b[0m \u001b[1;36m0.5\u001b[0m\u001b[1;33m]\u001b[0m \u001b[1;33m=\u001b[0m \u001b[1;36m0\u001b[0m\u001b[1;33m\u001b[0m\u001b[1;33m\u001b[0m\u001b[0m\n",
      "\u001b[1;32m<ipython-input-9-2c938008bf02>\u001b[0m in \u001b[0;36m<listcomp>\u001b[1;34m(.0)\u001b[0m\n\u001b[0;32m     11\u001b[0m \u001b[1;33m\u001b[0m\u001b[0m\n\u001b[0;32m     12\u001b[0m     \u001b[0mt0\u001b[0m \u001b[1;33m=\u001b[0m \u001b[0mtime\u001b[0m\u001b[1;33m.\u001b[0m\u001b[0mtime\u001b[0m\u001b[1;33m(\u001b[0m\u001b[1;33m)\u001b[0m\u001b[1;33m\u001b[0m\u001b[1;33m\u001b[0m\u001b[0m\n\u001b[1;32m---> 13\u001b[1;33m     \u001b[0my_v\u001b[0m \u001b[1;33m=\u001b[0m \u001b[0mnp\u001b[0m\u001b[1;33m.\u001b[0m\u001b[0marray\u001b[0m\u001b[1;33m(\u001b[0m\u001b[1;33m[\u001b[0m\u001b[0mkrr\u001b[0m\u001b[1;33m(\u001b[0m\u001b[0mld\u001b[0m\u001b[1;33m,\u001b[0m \u001b[0mkregr\u001b[0m\u001b[1;33m.\u001b[0m\u001b[0m_alpha\u001b[0m\u001b[1;33m,\u001b[0m \u001b[0mk\u001b[0m\u001b[1;33m,\u001b[0m \u001b[0mx\u001b[0m\u001b[1;33m)\u001b[0m \u001b[1;32mfor\u001b[0m \u001b[0mx\u001b[0m \u001b[1;32min\u001b[0m \u001b[0mmnist\u001b[0m\u001b[1;33m.\u001b[0m\u001b[0mvalidation\u001b[0m\u001b[1;33m[\u001b[0m\u001b[1;36m0\u001b[0m\u001b[1;33m]\u001b[0m\u001b[1;33m]\u001b[0m\u001b[1;33m)\u001b[0m\u001b[1;33m\u001b[0m\u001b[1;33m\u001b[0m\u001b[0m\n\u001b[0m\u001b[0;32m     14\u001b[0m     \u001b[0my_v\u001b[0m\u001b[1;33m[\u001b[0m\u001b[0my_v\u001b[0m \u001b[1;33m>\u001b[0m \u001b[1;36m0.5\u001b[0m\u001b[1;33m]\u001b[0m \u001b[1;33m=\u001b[0m \u001b[1;36m1\u001b[0m\u001b[1;33m\u001b[0m\u001b[1;33m\u001b[0m\u001b[0m\n\u001b[0;32m     15\u001b[0m     \u001b[0my_v\u001b[0m\u001b[1;33m[\u001b[0m\u001b[0my_v\u001b[0m \u001b[1;33m<\u001b[0m \u001b[1;36m0.5\u001b[0m\u001b[1;33m]\u001b[0m \u001b[1;33m=\u001b[0m \u001b[1;36m0\u001b[0m\u001b[1;33m\u001b[0m\u001b[1;33m\u001b[0m\u001b[0m\n",
      "\u001b[1;32m~\\Documents\\PSU\\PSU_STAT671\\hw\\03\\code\\krr.py\u001b[0m in \u001b[0;36mkrr\u001b[1;34m(data, alpha, k, x)\u001b[0m\n\u001b[0;32m     51\u001b[0m     \u001b[0mtotal\u001b[0m  \u001b[1;33m=\u001b[0m \u001b[1;36m0\u001b[0m\u001b[1;33m\u001b[0m\u001b[1;33m\u001b[0m\u001b[0m\n\u001b[0;32m     52\u001b[0m     \u001b[1;32mfor\u001b[0m \u001b[0midx\u001b[0m\u001b[1;33m,\u001b[0m \u001b[0mxd\u001b[0m \u001b[1;32min\u001b[0m \u001b[0menumerate\u001b[0m\u001b[1;33m(\u001b[0m\u001b[0mdata\u001b[0m\u001b[1;33m.\u001b[0m\u001b[0mx\u001b[0m\u001b[1;33m)\u001b[0m\u001b[1;33m:\u001b[0m\u001b[1;33m\u001b[0m\u001b[1;33m\u001b[0m\u001b[0m\n\u001b[1;32m---> 53\u001b[1;33m         \u001b[0mtotal\u001b[0m \u001b[1;33m+=\u001b[0m \u001b[0malpha\u001b[0m\u001b[1;33m[\u001b[0m\u001b[0midx\u001b[0m\u001b[1;33m]\u001b[0m\u001b[1;33m*\u001b[0m\u001b[0mk\u001b[0m\u001b[1;33m(\u001b[0m\u001b[0mxd\u001b[0m\u001b[1;33m,\u001b[0m \u001b[0mx\u001b[0m\u001b[1;33m)\u001b[0m\u001b[1;33m\u001b[0m\u001b[1;33m\u001b[0m\u001b[0m\n\u001b[0m\u001b[0;32m     54\u001b[0m     \u001b[1;32mreturn\u001b[0m \u001b[0mtotal\u001b[0m\u001b[1;33m\u001b[0m\u001b[1;33m\u001b[0m\u001b[0m\n\u001b[0;32m     55\u001b[0m \u001b[1;33m\u001b[0m\u001b[0m\n",
      "\u001b[1;32m<ipython-input-10-5baf0f83e703>\u001b[0m in \u001b[0;36m<lambda>\u001b[1;34m(x, y)\u001b[0m\n\u001b[0;32m      5\u001b[0m     \u001b[1;32mfor\u001b[0m \u001b[0ms1\u001b[0m \u001b[1;32min\u001b[0m \u001b[0mrange\u001b[0m\u001b[1;33m(\u001b[0m\u001b[1;36m0\u001b[0m\u001b[1;33m,\u001b[0m \u001b[1;36m10\u001b[0m\u001b[1;33m)\u001b[0m\u001b[1;33m:\u001b[0m\u001b[1;33m\u001b[0m\u001b[1;33m\u001b[0m\u001b[0m\n\u001b[0;32m      6\u001b[0m         \u001b[1;32mif\u001b[0m \u001b[0ms1\u001b[0m \u001b[1;33m<\u001b[0m \u001b[0ms0\u001b[0m\u001b[1;33m:\u001b[0m\u001b[1;33m\u001b[0m\u001b[1;33m\u001b[0m\u001b[0m\n\u001b[1;32m----> 7\u001b[1;33m             \u001b[0mres\u001b[0m \u001b[1;33m=\u001b[0m \u001b[0mclassify_test\u001b[0m\u001b[1;33m(\u001b[0m\u001b[0ms0\u001b[0m\u001b[1;33m,\u001b[0m \u001b[0ms1\u001b[0m\u001b[1;33m,\u001b[0m \u001b[1;36m0.03\u001b[0m\u001b[1;33m,\u001b[0m \u001b[1;36m0.5\u001b[0m\u001b[1;33m,\u001b[0m \u001b[1;32mlambda\u001b[0m \u001b[0mx\u001b[0m\u001b[1;33m,\u001b[0m \u001b[0my\u001b[0m\u001b[1;33m:\u001b[0m \u001b[0mk_polynomial\u001b[0m\u001b[1;33m(\u001b[0m\u001b[0mx\u001b[0m\u001b[1;33m,\u001b[0m \u001b[0my\u001b[0m\u001b[1;33m,\u001b[0m \u001b[1;36m2\u001b[0m\u001b[1;33m)\u001b[0m\u001b[1;33m)\u001b[0m\u001b[1;33m\u001b[0m\u001b[1;33m\u001b[0m\u001b[0m\n\u001b[0m\u001b[0;32m      8\u001b[0m             \u001b[0mcerror\u001b[0m\u001b[1;33m[\u001b[0m\u001b[0ms0\u001b[0m\u001b[1;33m,\u001b[0m \u001b[0ms1\u001b[0m\u001b[1;33m]\u001b[0m \u001b[1;33m=\u001b[0m \u001b[0mres\u001b[0m\u001b[1;33m[\u001b[0m\u001b[1;34m'error'\u001b[0m\u001b[1;33m]\u001b[0m\u001b[1;33m\u001b[0m\u001b[1;33m\u001b[0m\u001b[0m\n\u001b[0;32m      9\u001b[0m             \u001b[0mrow_str\u001b[0m \u001b[1;33m+=\u001b[0m \u001b[1;34m\"%2.2f \"\u001b[0m \u001b[1;33m%\u001b[0m \u001b[1;33m(\u001b[0m\u001b[0mcerror\u001b[0m\u001b[1;33m[\u001b[0m\u001b[0ms0\u001b[0m\u001b[1;33m,\u001b[0m \u001b[0ms1\u001b[0m\u001b[1;33m]\u001b[0m\u001b[1;33m*\u001b[0m\u001b[1;36m100\u001b[0m\u001b[1;33m)\u001b[0m\u001b[1;33m\u001b[0m\u001b[1;33m\u001b[0m\u001b[0m\n",
      "\u001b[1;32m~\\Documents\\PSU\\PSU_STAT671\\hw\\03\\code\\krr.py\u001b[0m in \u001b[0;36mk_polynomial\u001b[1;34m(x, xp, d)\u001b[0m\n\u001b[0;32m     12\u001b[0m \u001b[1;33m\u001b[0m\u001b[0m\n\u001b[0;32m     13\u001b[0m \u001b[1;32mdef\u001b[0m \u001b[0mk_polynomial\u001b[0m\u001b[1;33m(\u001b[0m\u001b[0mx\u001b[0m\u001b[1;33m,\u001b[0m \u001b[0mxp\u001b[0m\u001b[1;33m,\u001b[0m \u001b[0md\u001b[0m\u001b[1;33m)\u001b[0m\u001b[1;33m:\u001b[0m\u001b[1;33m\u001b[0m\u001b[1;33m\u001b[0m\u001b[0m\n\u001b[1;32m---> 14\u001b[1;33m     \u001b[1;32mreturn\u001b[0m \u001b[1;33m(\u001b[0m\u001b[0mnp\u001b[0m\u001b[1;33m.\u001b[0m\u001b[0mdot\u001b[0m\u001b[1;33m(\u001b[0m\u001b[0mx\u001b[0m\u001b[1;33m,\u001b[0m \u001b[0mxp\u001b[0m\u001b[1;33m)\u001b[0m\u001b[1;33m+\u001b[0m\u001b[1;36m1\u001b[0m\u001b[1;33m)\u001b[0m\u001b[1;33m**\u001b[0m\u001b[0md\u001b[0m\u001b[1;33m\u001b[0m\u001b[1;33m\u001b[0m\u001b[0m\n\u001b[0m\u001b[0;32m     15\u001b[0m \u001b[1;33m\u001b[0m\u001b[0m\n\u001b[0;32m     16\u001b[0m \u001b[1;33m\u001b[0m\u001b[0m\n",
      "\u001b[1;31mKeyboardInterrupt\u001b[0m: "
     ]
    }
   ],
   "source": [
    "cerror = np.zeros((10, 10))\n",
    "print('& '+ str(list(range(0, 10)))[1:-1].replace(',', '&') + \" \\\\\\\\ \\hline\")\n",
    "for s0 in range(0, 10):\n",
    "    row_str = str(s0) + ' &'\n",
    "    for s1 in range(0, 10):\n",
    "        if s1 < s0:\n",
    "            res = classify_test(s0, s1, 0.03, 0.5, lambda x, y: k_polynomial(x, y, 2))\n",
    "            cerror[s0, s1] = res['error']\n",
    "            row_str += \"%2.2f \" % (cerror[s0, s1]*100)\n",
    "        if s1 < 9:\n",
    "            row_str += ' &'\n",
    "        else:\n",
    "            row_str += '\\\\\\\\ \\hline'\n",
    "    print(row_str)\n",
    "        #print(s0, s1, res['error'])"
   ]
  },
  {
   "cell_type": "code",
   "execution_count": 11,
   "metadata": {},
   "outputs": [
    {
     "name": "stdout",
     "output_type": "stream",
     "text": [
      "0.0013333333333333333\n",
      "0.0016\n",
      "0.0021333333333333334\n",
      "0.0026666666666666666\n",
      "0.0034666666666666665\n",
      "0.0044\n",
      "0.0056\n",
      "0.0072\n",
      "0.0092\n",
      "0.011733333333333333\n",
      "0.014933333333333333\n",
      "0.019066666666666666\n",
      "0.0244\n",
      "0.031066666666666666\n",
      "0.0396\n",
      "0.05053333333333333\n",
      "0.0644\n",
      "0.082\n",
      "0.10453333333333334\n",
      "0.13333333333333333\n"
     ]
    }
   ],
   "source": [
    "samps = np.logspace(1, 3, 20).astype(np.int)\n",
    "ress = []\n",
    "for s in samps:\n",
    "    usage = 2*s/15000\n",
    "    print(usage)\n",
    "    res = classify_test(4, 9, usage, 0.5, lambda x, y: k_polynomial(x, y, 2))\n",
    "    ress.append(res)"
   ]
  },
  {
   "cell_type": "code",
   "execution_count": null,
   "metadata": {},
   "outputs": [],
   "source": [
    "errs = []\n",
    "risks = []\n",
    "ttimes = []\n",
    "vtimes = []\n",
    "tsize = []\n",
    "\n",
    "for r in ress:\n",
    "    errs.append(r['error'])\n",
    "    risks.append(r['risk'])\n",
    "    ttimes.append(r['training time'])\n",
    "    vtimes.append(r['validation time'])\n",
    "    tsize.append(r['training size'])\n",
    "    \n",
    "    "
   ]
  },
  {
   "cell_type": "code",
   "execution_count": null,
   "metadata": {},
   "outputs": [],
   "source": [
    "from matplotlib import rc\n",
    "rc('mathtext', default='regular')\n",
    "\n",
    "fig = plt.figure()\n",
    "ax = fig.add_subplot(111)\n",
    "\n",
    "lns1 = ax.semilogx(tsize, (1 - np.array(errs))*s, color='r', label='Correctly Classified Images')\n",
    "\n",
    "ax2 = ax.twinx()\n",
    "lns2 = ax2.loglog(tsize, ttimes, label='Training Time (s)')\n",
    "lns3 = ax2.loglog(tsize, vtimes, label='Testing Time (s)')\n",
    "\n",
    "lns = lns1+lns2+lns3\n",
    "labs = [l.get_label() for l in lns]\n",
    "ax.legend(lns, labs, loc=0)\n",
    "ax.set_xlabel('Training Size (samples)')\n",
    "ax.set_ylabel('Number of Images')\n",
    "ax2.set_ylabel('Time (s)')\n",
    "\n",
    "plt.savefig(\"mnist.eps\", format='eps')\n",
    "#plt.show()\n"
   ]
  },
  {
   "cell_type": "code",
   "execution_count": null,
   "metadata": {},
   "outputs": [],
   "source": []
  }
 ],
 "metadata": {
  "kernelspec": {
   "display_name": "Python [conda env:ml_env] *",
   "language": "python",
   "name": "conda-env-ml_env-py"
  },
  "language_info": {
   "codemirror_mode": {
    "name": "ipython",
    "version": 3
   },
   "file_extension": ".py",
   "mimetype": "text/x-python",
   "name": "python",
   "nbconvert_exporter": "python",
   "pygments_lexer": "ipython3",
   "version": "3.7.4"
  }
 },
 "nbformat": 4,
 "nbformat_minor": 2
}
