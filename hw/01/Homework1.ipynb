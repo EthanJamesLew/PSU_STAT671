{
 "cells": [
  {
   "cell_type": "code",
   "execution_count": 2,
   "metadata": {},
   "outputs": [],
   "source": [
    "from sklearn.datasets import load_iris\n",
    "import numpy as np"
   ]
  },
  {
   "cell_type": "markdown",
   "metadata": {},
   "source": [
    "# A Simple Classifier\n",
    "\n",
    "## Problem\n",
    "1. Finish the derivation of the simple classifier provided in class\n",
    "2. Use the [Iris Data Set](https://en.wikipedia.org/wiki/Iris_flower_data_set). Create a classifier for the labels \"I.setosa\" vs \"I.versicolor\" using 80% of the data. Compute the classification error using the remaining 20%. Then, repeat the problem for the labels \"I.virginica\" vs \"I.versicolor\". Report your results in a clear and concise form.\n",
    "\n",
    "## Getting the Data\n",
    "\n",
    "[Scikit-Learn](https://scikit-learn.org/stable/auto_examples/datasets/plot_iris_dataset.html) has the data already in its library. For comprehensibility, the data was moved to a pandas data frame to match the wikipedia page."
   ]
  },
  {
   "cell_type": "code",
   "execution_count": 14,
   "metadata": {},
   "outputs": [
    {
     "name": "stdout",
     "output_type": "stream",
     "text": [
      "     sepal_length  sepal_width  petal_length  petal_width  species\n",
      "0             5.1          3.5           1.4          0.2        0\n",
      "1             4.9          3.0           1.4          0.2        0\n",
      "2             4.7          3.2           1.3          0.2        0\n",
      "3             4.6          3.1           1.5          0.2        0\n",
      "4             5.0          3.6           1.4          0.2        0\n",
      "..            ...          ...           ...          ...      ...\n",
      "145           6.7          3.0           5.2          2.3        2\n",
      "146           6.3          2.5           5.0          1.9        2\n",
      "147           6.5          3.0           5.2          2.0        2\n",
      "148           6.2          3.4           5.4          2.3        2\n",
      "149           5.9          3.0           5.1          1.8        2\n",
      "\n",
      "[150 rows x 5 columns]\n"
     ]
    }
   ],
   "source": [
    "iris_sk=load_iris()\n",
    "species_lp={0:'I.setosa', 1:'I. versicolor', 2:'I. virginica'}\n",
    "iris_df={'sepal_length':iris_sk['data'][:,0], 'sepal_width':iris_sk['data'][:,1], 'petal_length':iris_sk['data'][:,2],\n",
    "        'petal_width':iris_sk['data'][:,3], 'species':iris_sk['target']}\n",
    "iris_df=pd.DataFrame(data=iris_df)\n",
    "print(iris_df)"
   ]
  },
  {
   "cell_type": "markdown",
   "metadata": {},
   "source": [
    "### Training and Validation Data\n",
    "\n",
    "As mentioned some data needs to be saved for verififcation."
   ]
  },
  {
   "cell_type": "code",
   "execution_count": 42,
   "metadata": {},
   "outputs": [
    {
     "name": "stdout",
     "output_type": "stream",
     "text": [
      "    sepal_length  sepal_width  petal_length  petal_width  species\n",
      "0            5.1          3.5           1.4          0.2        0\n",
      "1            4.9          3.0           1.4          0.2        0\n",
      "2            4.7          3.2           1.3          0.2        0\n",
      "4            5.0          3.6           1.4          0.2        0\n",
      "5            5.4          3.9           1.7          0.4        0\n",
      "..           ...          ...           ...          ...      ...\n",
      "95           5.7          3.0           4.2          1.2        1\n",
      "96           5.7          2.9           4.2          1.3        1\n",
      "97           6.2          2.9           4.3          1.3        1\n",
      "98           5.1          2.5           3.0          1.1        1\n",
      "99           5.7          2.8           4.1          1.3        1\n",
      "\n",
      "[80 rows x 5 columns]\n",
      "    sepal_length  sepal_width  petal_length  petal_width  species\n",
      "2            4.7          3.2           1.3          0.2        0\n",
      "6            4.6          3.4           1.4          0.3        0\n",
      "10           5.4          3.7           1.5          0.2        0\n",
      "12           4.8          3.0           1.4          0.1        0\n",
      "14           5.8          4.0           1.2          0.2        0\n",
      "24           4.8          3.4           1.9          0.2        0\n",
      "32           5.2          4.1           1.5          0.1        0\n",
      "34           4.9          3.1           1.5          0.2        0\n",
      "36           5.5          3.5           1.3          0.2        0\n",
      "48           5.3          3.7           1.5          0.2        0\n",
      "51           6.4          3.2           4.5          1.5        1\n",
      "52           6.9          3.1           4.9          1.5        1\n",
      "68           6.2          2.2           4.5          1.5        1\n",
      "75           6.6          3.0           4.4          1.4        1\n",
      "80           5.5          2.4           3.8          1.1        1\n",
      "86           6.7          3.1           4.7          1.5        1\n",
      "88           5.6          3.0           4.1          1.3        1\n",
      "89           5.5          2.5           4.0          1.3        1\n",
      "90           5.5          2.6           4.4          1.2        1\n",
      "97           6.2          2.9           4.3          1.3        1\n"
     ]
    }
   ],
   "source": [
    "def partition_df(df, ratio):\n",
    "    N = df.shape[0]\n",
    "    M = round(N*ratio)\n",
    "    train = np.zeros((N), dtype=np.bool)\n",
    "    train[0:M] = 1\n",
    "    np.random.shuffle(train)\n",
    "    train_df = df[train]\n",
    "    val_df = df[~train]\n",
    "    return train_df, val_df\n",
    "\n",
    "# Get the two species to classify\n",
    "test1_df = iris_df.loc[iris_df['species'] < 2]\n",
    "\n",
    "# Get training and validation sets\n",
    "train1_df, val1_df = partition_df(test1_df, 0.8)\n",
    "print(train1_df)\n",
    "print(ver1_df)"
   ]
  },
  {
   "cell_type": "markdown",
   "metadata": {},
   "source": [
    "## Creating the Classifier"
   ]
  },
  {
   "cell_type": "code",
   "execution_count": 66,
   "metadata": {},
   "outputs": [
    {
     "name": "stdout",
     "output_type": "stream",
     "text": [
      "[0. 0. 0. 0. 0. 0. 0. 0. 0. 0. 0. 0. 0. 0. 0. 0. 0. 0. 0. 0.]\n"
     ]
    }
   ],
   "source": [
    "# Get the midpoints\n",
    "cm = train1_df.loc[train1_df['species'] == 0].mean(axis = 0, skipna = True) \n",
    "cp = train1_df.loc[train1_df['species'] == 1].mean(axis = 0, skipna = True) \n",
    "cm = np.array(cm)[:-1]\n",
    "cp = np.array(cp)[:-1]\n",
    "c = (cp + cm)/2\n",
    "\n",
    "def classify(x, cp, cm, c):\n",
    "    return np.sign(np.dot(cp - cm, x - c))\n",
    "\n",
    "# Run classifier on validation data\n",
    "true = np.array(val1_df)[:, -1]*2-1 \n",
    "val = np.array(val1_df)[:, :-1] \n",
    "test = np.array([classify(x, cp, cm, c) for x in val])\n",
    "    \n",
    "print(test-true)"
   ]
  },
  {
   "cell_type": "markdown",
   "metadata": {},
   "source": [
    "# Perceptron\n",
    "\n",
    "Consider a training set $\\left\\{\\left(x_{1}, y_{1}\\right), \\ldots,\\left(x_{n}, y_{n}\\right)\\right\\}$, with $x_{i} \\in \\mathbb{R}^{d}$ and $y_{i} \\in-1,1$.  The perceptron is one of the oldest algorithm in machine learning.  Historical notes are provided [here](https://en.wikipedia.org/wiki/Perceptron). The  perceptron  is  a  linear  classifier $f(x)=w^{T} x$ where $w \\in \\mathbb{R}^{d}$. The algorithm for computing $w$ is as follows:\n",
    "\n",
    "Init: $w \\leftarrow y_{1} x_{1}$ <br />\n",
    "&emsp;for $i=2 \\ldots n$ do <br />\n",
    "&emsp;&emsp;if $y_{i} w^{T} x_{i}<0$ then $w \\leftarrow w+y_{i} x_{i}$ <br />\n",
    "&emsp;&emsp;end if <br />\n",
    "end for"
   ]
  },
  {
   "cell_type": "markdown",
   "metadata": {},
   "source": [
    "## 1\n",
    "\n",
    "Write  the  kernalized  perceptron  algorithm. Provide a pseudo-code."
   ]
  },
  {
   "cell_type": "markdown",
   "metadata": {},
   "source": [
    "## 2\n",
    "\n",
    "Write  the  code  for  data  in  2  dimensions,  similarly  than  for  the  simple  classifier. Show 3 examples using 3 different kernels."
   ]
  },
  {
   "cell_type": "markdown",
   "metadata": {},
   "source": [
    "# Kernels over $\\mathcal{X} = \\mathbb R^2$"
   ]
  },
  {
   "cell_type": "markdown",
   "metadata": {},
   "source": [
    "Let $x = (x_1, x_2) \\in \\mathbb R^2$ and $y=\\left(y_{1}, y_{2}\\right) \\in \\mathbb{R}^{2}$, \n",
    "\n",
    "## 1\n",
    "Let\n",
    "\n",
    "\\begin{equation}\n",
    "\\phi(x)=\\left(x_{1}^{2}, \\sqrt{2} x_{1} x_{2}, x_{2}^{2}\\right)\n",
    "\\end{equation}\n",
    "\n",
    "Verify that $\\phi(x)^{T} \\phi(y)=\\left(x^{T} y\\right)^{2}$."
   ]
  },
  {
   "cell_type": "markdown",
   "metadata": {},
   "source": [
    "### Solution\n",
    "Evaluate the right side, \n",
    "\\begin{equation}\n",
    "\\begin{aligned}\n",
    "\\left(x^{T} y\\right)^{2} &= \\left( x_1 y_1+ x_2y_2 \\right)^2 \\\\\n",
    "&= x_1^2 y_1^2 + 2 x_1 y_1 y_1 y_2 + x^2_2 y^2_2. \\\\\n",
    "\\end{aligned}\n",
    "\\end{equation}\n",
    "\n",
    "Evaluate the left side,\n",
    "\\begin{equation}\n",
    "\\begin{aligned}\n",
    "\\phi(x)^{T} \\phi(y) &= \\left[\\begin{array}{llll}{x_1^2} & {\\sqrt{2} x_1 x_2} & {x_2^2}\\end{array}\\right] \\left[\\begin{array}{c}{y_1^2} \\\\ {\\sqrt{2} y_1 y_2} \\\\ {y_2^2}\\end{array}\\right] \\\\\n",
    "&= x_1^2 y_1^2 + 2 x_1 y_1 y_1 y_2 + x^2_2 y^2_2. \\\\\n",
    "\\end{aligned}\n",
    "\\end{equation}"
   ]
  },
  {
   "cell_type": "markdown",
   "metadata": {},
   "source": [
    "## 2\n",
    "Find a function $\\phi(x): \\mathbb{R}^{2} \\mapsto \\mathbb{R}^{6}$ such that for any $(x, y), \\phi(x)^{T} \\phi(y)=\\left(x^{T} y+1\\right)^{2}$."
   ]
  },
  {
   "cell_type": "markdown",
   "metadata": {},
   "source": [
    "### Solution\n",
    "\n",
    "\\begin{equation}\n",
    "\\begin{aligned}\n",
    "\\phi(x)^{T} \\phi(y) &= \\left(x^Ty + 1 \\right)^2 \\\\\n",
    "&= \\left(x^T y \\right)^2 + 2x^T y + 1 \\\\\n",
    "&= x_1^2 y_1^2 + 2 x_1 y_1 y_1 y_2 + x^2_2 y^2_2 + 2x_1 y_1 + 2 x_2 y_2 + 1\n",
    "\\end{aligned}\n",
    "\\end{equation}\n",
    "\n",
    "Observing the symmetry,\n",
    "\\begin{equation}\n",
    "\\begin{aligned}\n",
    "\\phi(x) = \\left[\\begin{array}{c}{x_1^2} \\\\ {\\sqrt{2} x_1 x_2} \\\\ {x_2^2} \\\\ {\\sqrt{2}x_1} \\\\ {\\sqrt{2} x_2} \\\\ {1}\\end{array}\\right]\n",
    "\\end{aligned}\n",
    "\\end{equation}"
   ]
  },
  {
   "cell_type": "markdown",
   "metadata": {},
   "source": [
    "## 3\n",
    "Find a function $\\phi(x): \\mathbb{R}^{2} \\mapsto \\mathbb{R}^{9}$ such that for any $(x, y), \\phi(x)^{T} \\phi(y)=\\left(x^{T} y+1\\right)^{2}$."
   ]
  },
  {
   "cell_type": "markdown",
   "metadata": {},
   "source": [
    "### Solution\n",
    "\n",
    "An obvious choice is\n",
    "\n",
    "\\begin{equation}\n",
    "\\begin{aligned}\n",
    "\\phi(x) = \\left[\\begin{array}{c}{x_1^2} \\\\ {\\sqrt{2} x_1 x_2} \\\\ {x_2^2} \\\\ {\\sqrt{2}x_1} \\\\ {\\sqrt{2} x_2} \\\\ {1} \\\\ {0} \\\\ {0} \\\\ {0}\\end{array}\\right]\n",
    "\\end{aligned}\n",
    "\\end{equation}\n",
    "\n",
    "The inner product is unitary invariant. So, any $\\phi' = U \\phi $ will also satisfy as a solution such that $U^TU=I$ holds."
   ]
  },
  {
   "cell_type": "markdown",
   "metadata": {},
   "source": [
    "## 4\n",
    "Verify that\n",
    "\n",
    "\\begin{equation}\n",
    "K(x, y)=\\left(1+x^{T} y\\right)^{d}\n",
    "\\end{equation}\n",
    "\n",
    "for $d=1,2 \\ldots$ is a positive definite kernel.\n",
    "\n",
    "### Solution\n",
    "\n",
    "A kernel, $k(x_i, x_j)$ is positive definite if for a set of numbers $a_1, a_2, ..., a_m \\in \\mathbb R$,\n",
    "\n",
    "\\begin{equation}\n",
    "\\sum_{i=1}^{m} \\sum_{j=1}^{m} a_{i} a_{j} K\\left(x_{i}, x_{j}\\right) \\geq 0\n",
    "\\end{equation}\n",
    "\n",
    "By substitution, the left side is\n",
    "\n",
    "\\begin{equation}\n",
    "\\sum_{i=1}^{m} \\sum_{j=1}^{m} a_{i} a_{j} \\left(1+x_i^{T} x_j\\right)^{d}.\n",
    "\\end{equation}\n",
    "\n",
    "This permits the binomial expansion,\n",
    "\n",
    "\\begin{equation}\n",
    "\\sum_{i=1}^{m} \\sum_{j=1}^{m} a_{i} a_{j} \\sum_{k=0}^{d} \\binom{d}{k} 1^{d-k} \\left(x_i^{T} x_j\\right)^k = \\sum_{k=0}^{d}  \\binom{d}{k} \\sum_{i=1}^{m} \\sum_{j=1}^{m} a_{i} a_{j} \\left(x_i^{T} x_j\\right)^k.\n",
    "\\end{equation}\n",
    "\n",
    "#### Property \n",
    "\n",
    "*Given a family of positive definite kernels $\\left( K_i \\right)_{i \\in \\mathbb N}$, $K_i: \\mathcal X \\times \\mathcal X \\rightarrow \\mathbb R$, the sum $\\sum_{i=1}^{n} \\lambda_{i} K_{i}$ is positive definite given $\\lambda_{1}, \\ldots, \\lambda_{n} \\geq 0$.*\n",
    "\n",
    "Therefore, as $\\binom{d}{k} > 0$, to show that $K(x,y)$ is positive definite, it is suffcient to shows that $K'(x,y) = \\left(x^{T} y\\right)^k$ is positive definite for $k \\in \\mathbb N$.\n",
    "\n",
    "\\begin{equation}\n",
    " \\sum_{j=1}^{m} a_{i} a_{j} \\left(x_i^{T} x_j\\right)^k = \\sum_{j=1}^{m} a_{i} a_{j} \\prod_{l=1}^{k} \\left(x_i^{T} x_j\\right).\n",
    "\\end{equation}\n",
    "\n",
    "#### Property \n",
    "\n",
    "*Given a family of positive definite kernels $\\left( K_i \\right)_{i \\in \\mathbb N}$, $K_i: \\mathcal X \\times \\mathcal X \\rightarrow \\mathbb R$, $K\\left(\\left(x_{1}, \\ldots, x_{n}\\right),\\left(y_{1}, \\ldots, y_{n}\\right)\\right)=\\prod_{i=1}^{n} K_{i}\\left(x_{i}, y_{i}\\right)$ is a positive definite kernel.*\n",
    "\n",
    "Therefore, $K'(x,y) = \\left(x^{T} y\\right)^k$ is positive definite, implying that $K(x, y)=\\left(1+x^{T} y\\right)^{d}$ is also positive definite."
   ]
  },
  {
   "cell_type": "markdown",
   "metadata": {},
   "source": [
    "## 5\n",
    "Can you find a function $\\phi: \\mathbb{R}^{2} \\mapsto H$, where $H$ is an inner product space such that for any $(x, y),<\\phi(x), \\phi(y)>_{H}=x^{T} y-1$?"
   ]
  }
 ],
 "metadata": {
  "kernelspec": {
   "display_name": "Python 3",
   "language": "python",
   "name": "python3"
  },
  "language_info": {
   "codemirror_mode": {
    "name": "ipython",
    "version": 3
   },
   "file_extension": ".py",
   "mimetype": "text/x-python",
   "name": "python",
   "nbconvert_exporter": "python",
   "pygments_lexer": "ipython3",
   "version": "3.7.4"
  }
 },
 "nbformat": 4,
 "nbformat_minor": 2
}
