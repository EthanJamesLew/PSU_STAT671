{
 "cells": [
  {
   "cell_type": "code",
   "execution_count": 22,
   "metadata": {},
   "outputs": [],
   "source": [
    "from sklearn.datasets import load_iris\n",
    "import numpy as np"
   ]
  },
  {
   "cell_type": "markdown",
   "metadata": {},
   "source": [
    "# A Simple Classifier\n",
    "\n",
    "## Problem\n",
    "1. Finish the derivation of the simple classifier provided in class\n",
    "2. Use the [Iris Data Set](https://en.wikipedia.org/wiki/Iris_flower_data_set). Create a classifier for the labels \"I.setosa\" vs \"I.versicolor\" using 80% of the data. Compute the classification error using the remaining 20%. Then, repeat the problem for the labels \"I.virginica\" vs \"I.versicolor\". Report your results in a clear and concise form.\n",
    "\n",
    "## Getting the Data\n",
    "\n",
    "[Scikit-Learn](https://scikit-learn.org/stable/auto_examples/datasets/plot_iris_dataset.html) has the data already in its library. For comprehensibility, the data was moved to a pandas data frame to match the wikipedia page."
   ]
  },
  {
   "cell_type": "code",
   "execution_count": 14,
   "metadata": {},
   "outputs": [
    {
     "name": "stdout",
     "output_type": "stream",
     "text": [
      "     sepal_length  sepal_width  petal_length  petal_width  species\n",
      "0             5.1          3.5           1.4          0.2        0\n",
      "1             4.9          3.0           1.4          0.2        0\n",
      "2             4.7          3.2           1.3          0.2        0\n",
      "3             4.6          3.1           1.5          0.2        0\n",
      "4             5.0          3.6           1.4          0.2        0\n",
      "..            ...          ...           ...          ...      ...\n",
      "145           6.7          3.0           5.2          2.3        2\n",
      "146           6.3          2.5           5.0          1.9        2\n",
      "147           6.5          3.0           5.2          2.0        2\n",
      "148           6.2          3.4           5.4          2.3        2\n",
      "149           5.9          3.0           5.1          1.8        2\n",
      "\n",
      "[150 rows x 5 columns]\n"
     ]
    }
   ],
   "source": [
    "iris_sk=load_iris()\n",
    "species_lp={0:'I.setosa', 1:'I. versicolor', 2:'I. virginica'}\n",
    "iris_df={'sepal_length':iris_sk['data'][:,0], 'sepal_width':iris_sk['data'][:,1], 'petal_length':iris_sk['data'][:,2],\n",
    "        'petal_width':iris_sk['data'][:,3], 'species':iris_sk['target']}\n",
    "iris_df=pd.DataFrame(data=iris_df)\n",
    "print(iris_df)"
   ]
  },
  {
   "cell_type": "markdown",
   "metadata": {},
   "source": [
    "### Training and Validation Data\n",
    "\n",
    "As mentioned some data needs to be saved for verififcation."
   ]
  },
  {
   "cell_type": "code",
   "execution_count": 42,
   "metadata": {},
   "outputs": [
    {
     "name": "stdout",
     "output_type": "stream",
     "text": [
      "    sepal_length  sepal_width  petal_length  petal_width  species\n",
      "0            5.1          3.5           1.4          0.2        0\n",
      "1            4.9          3.0           1.4          0.2        0\n",
      "2            4.7          3.2           1.3          0.2        0\n",
      "4            5.0          3.6           1.4          0.2        0\n",
      "5            5.4          3.9           1.7          0.4        0\n",
      "..           ...          ...           ...          ...      ...\n",
      "95           5.7          3.0           4.2          1.2        1\n",
      "96           5.7          2.9           4.2          1.3        1\n",
      "97           6.2          2.9           4.3          1.3        1\n",
      "98           5.1          2.5           3.0          1.1        1\n",
      "99           5.7          2.8           4.1          1.3        1\n",
      "\n",
      "[80 rows x 5 columns]\n",
      "    sepal_length  sepal_width  petal_length  petal_width  species\n",
      "2            4.7          3.2           1.3          0.2        0\n",
      "6            4.6          3.4           1.4          0.3        0\n",
      "10           5.4          3.7           1.5          0.2        0\n",
      "12           4.8          3.0           1.4          0.1        0\n",
      "14           5.8          4.0           1.2          0.2        0\n",
      "24           4.8          3.4           1.9          0.2        0\n",
      "32           5.2          4.1           1.5          0.1        0\n",
      "34           4.9          3.1           1.5          0.2        0\n",
      "36           5.5          3.5           1.3          0.2        0\n",
      "48           5.3          3.7           1.5          0.2        0\n",
      "51           6.4          3.2           4.5          1.5        1\n",
      "52           6.9          3.1           4.9          1.5        1\n",
      "68           6.2          2.2           4.5          1.5        1\n",
      "75           6.6          3.0           4.4          1.4        1\n",
      "80           5.5          2.4           3.8          1.1        1\n",
      "86           6.7          3.1           4.7          1.5        1\n",
      "88           5.6          3.0           4.1          1.3        1\n",
      "89           5.5          2.5           4.0          1.3        1\n",
      "90           5.5          2.6           4.4          1.2        1\n",
      "97           6.2          2.9           4.3          1.3        1\n"
     ]
    }
   ],
   "source": [
    "def partition_df(df, ratio):\n",
    "    N = df.shape[0]\n",
    "    M = round(N*ratio)\n",
    "    train = np.zeros((N), dtype=np.bool)\n",
    "    train[0:M] = 1\n",
    "    np.random.shuffle(train)\n",
    "    train_df = df[train]\n",
    "    val_df = df[~train]\n",
    "    return train_df, val_df\n",
    "\n",
    "# Get the two species to classify\n",
    "test1_df = iris_df.loc[iris_df['species'] < 2]\n",
    "\n",
    "# Get training and validation sets\n",
    "train1_df, val1_df = partition_df(test1_df, 0.8)\n",
    "print(train1_df)\n",
    "print(ver1_df)"
   ]
  },
  {
   "cell_type": "markdown",
   "metadata": {},
   "source": [
    "## Creating the Classifier"
   ]
  },
  {
   "cell_type": "code",
   "execution_count": 66,
   "metadata": {},
   "outputs": [
    {
     "name": "stdout",
     "output_type": "stream",
     "text": [
      "[0. 0. 0. 0. 0. 0. 0. 0. 0. 0. 0. 0. 0. 0. 0. 0. 0. 0. 0. 0.]\n"
     ]
    }
   ],
   "source": [
    "# Get the midpoints\n",
    "cm = train1_df.loc[train1_df['species'] == 0].mean(axis = 0, skipna = True) \n",
    "cp = train1_df.loc[train1_df['species'] == 1].mean(axis = 0, skipna = True) \n",
    "cm = np.array(cm)[:-1]\n",
    "cp = np.array(cp)[:-1]\n",
    "c = (cp + cm)/2\n",
    "\n",
    "def classify(x, cp, cm, c):\n",
    "    return np.sign(np.dot(cp - cm, x - c))\n",
    "\n",
    "# Run classifier on validation data\n",
    "true = np.array(val1_df)[:, -1]*2-1 \n",
    "val = np.array(val1_df)[:, :-1] \n",
    "test = np.array([classify(x, cp, cm, c) for x in val])\n",
    "    \n",
    "print(test-true)"
   ]
  },
  {
   "cell_type": "code",
   "execution_count": null,
   "metadata": {},
   "outputs": [],
   "source": []
  }
 ],
 "metadata": {
  "kernelspec": {
   "display_name": "Python 3",
   "language": "python",
   "name": "python3"
  },
  "language_info": {
   "codemirror_mode": {
    "name": "ipython",
    "version": 3
   },
   "file_extension": ".py",
   "mimetype": "text/x-python",
   "name": "python",
   "nbconvert_exporter": "python",
   "pygments_lexer": "ipython3",
   "version": "3.7.4"
  }
 },
 "nbformat": 4,
 "nbformat_minor": 2
}
