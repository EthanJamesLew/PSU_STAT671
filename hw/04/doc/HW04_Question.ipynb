{
 "cells": [
  {
   "cell_type": "code",
   "execution_count": 1,
   "metadata": {},
   "outputs": [],
   "source": [
    "import numpy as np"
   ]
  },
  {
   "cell_type": "code",
   "execution_count": 2,
   "metadata": {},
   "outputs": [],
   "source": [
    "x = np.array([[10, 9.9],[1, 6.5],[2, 7.7],[3, 6],[4, 8],[5, 1],[6, 3.2],[7, 1.4],[8, 1],[9, 3]])\n",
    "#x = np.array([1,2,3,4,5,6,7,8,9,10])\n",
    "y = np.array([-1, -1,-1,-1,-1, 1,1,1,1,1 ])\n"
   ]
  },
  {
   "cell_type": "code",
   "execution_count": 3,
   "metadata": {},
   "outputs": [],
   "source": [
    "def make_XXmXp(x, y, k):\n",
    "    nmm = x[y == -1].shape[0]\n",
    "    npp = x[y == 1].shape[0]\n",
    "    \n",
    "    X = np.zeros((len(y), len(y)))\n",
    "    \n",
    "    for i, xi in enumerate(x):\n",
    "        for j, xj in enumerate(x):\n",
    "            X[i, j] = k(xi, xj)\n",
    "    \n",
    "    Xm = X[y == -1].T\n",
    "    Xp = X[y == 1].T\n",
    "    \n",
    "            \n",
    "    return X, Xm, Xp"
   ]
  },
  {
   "cell_type": "code",
   "execution_count": 4,
   "metadata": {},
   "outputs": [
    {
     "data": {
      "text/plain": [
       "(10, 5)"
      ]
     },
     "execution_count": 4,
     "metadata": {},
     "output_type": "execute_result"
    }
   ],
   "source": [
    "#k = lambda x,y: (np.dot(x,y) + 1)**2\n",
    "k = np.dot\n",
    "l = 0.01\n",
    "X, Xm, Xp = make_XXmXp(x, y, k) \n",
    "Xm.shape\n",
    "#Xm = Xm.T\n",
    "#Xp = Xp.T"
   ]
  },
  {
   "cell_type": "code",
   "execution_count": 5,
   "metadata": {},
   "outputs": [],
   "source": [
    "alpha = 1/(2*l)*np.linalg.pinv(X) @ (np.sum(Xp, axis=1)[:, np.newaxis] - np.sum(Xm, axis=1)[:, np.newaxis])"
   ]
  },
  {
   "cell_type": "code",
   "execution_count": 6,
   "metadata": {},
   "outputs": [
    {
     "data": {
      "text/plain": [
       "array([[-20.58929877],\n",
       "       [-62.23741409],\n",
       "       [-66.58989781],\n",
       "       [-39.26949511],\n",
       "       [-52.35932681],\n",
       "       [ 32.84600627],\n",
       "       [ 17.57183757],\n",
       "       [ 45.98440877],\n",
       "       [ 59.10662101],\n",
       "       [ 46.01678931]])"
      ]
     },
     "execution_count": 6,
     "metadata": {},
     "output_type": "execute_result"
    }
   ],
   "source": [
    "alpha"
   ]
  },
  {
   "cell_type": "code",
   "execution_count": 7,
   "metadata": {},
   "outputs": [],
   "source": [
    "def g(alpha, k, x, xn):\n",
    "    total = 0\n",
    "    for ai, xi in zip(alpha, x):\n",
    "        total += ai*k(xi, xn)\n",
    "    return total"
   ]
  },
  {
   "cell_type": "code",
   "execution_count": 8,
   "metadata": {},
   "outputs": [],
   "source": [
    "xx, yy = np.meshgrid(np.linspace(0, 10, 15), np.linspace(0, 10, 15))\n",
    "y_r = np.array([g(alpha, k, x, xidx) for xidx in np.vstack((xx.ravel(), yy.ravel())).T])"
   ]
  },
  {
   "cell_type": "code",
   "execution_count": 9,
   "metadata": {},
   "outputs": [],
   "source": [
    "import matplotlib.pyplot as plt"
   ]
  },
  {
   "cell_type": "code",
   "execution_count": 10,
   "metadata": {},
   "outputs": [
    {
     "data": {
      "image/png": "[encoded data removed]",
      "text/plain": [
       "<Figure size 432x288 with 1 Axes>"
      ]
     },
     "metadata": {
      "needs_background": "light"
     },
     "output_type": "display_data"
    }
   ],
   "source": [
    "plt.figure()\n",
    "plt.contourf(xx, yy, np.reshape(y_r, xx.shape))\n",
    "plt.scatter(*x[y == -1].T)\n",
    "plt.scatter(*x[y == 1].T)\n",
    "plt.show()"
   ]
  },
  {
   "cell_type": "code",
   "execution_count": 11,
   "metadata": {},
   "outputs": [
    {
     "data": {
      "text/plain": [
       "(2, 225)"
      ]
     },
     "execution_count": 11,
     "metadata": {},
     "output_type": "execute_result"
    }
   ],
   "source": [
    "np.vstack((xx.ravel(), yy.ravel())).shape"
   ]
  },
  {
   "cell_type": "code",
   "execution_count": 12,
   "metadata": {},
   "outputs": [],
   "source": [
    "alphalin = 1/(2*l)*np.linalg.inv(x @ x.T) @ (np.sum(Xp, axis=1)[:, np.newaxis] - np.sum(Xm, axis=1)[:, np.newaxis])"
   ]
  },
  {
   "cell_type": "code",
   "execution_count": 13,
   "metadata": {},
   "outputs": [],
   "source": [
    "lin_class = alphalin.T @ x"
   ]
  },
  {
   "cell_type": "code",
   "execution_count": 14,
   "metadata": {},
   "outputs": [],
   "source": [
    "def g_l(xn):\n",
    "    return lin_class @ xn"
   ]
  },
  {
   "cell_type": "code",
   "execution_count": 15,
   "metadata": {},
   "outputs": [],
   "source": [
    "y_rlin = np.array([g_l( xidx) for xidx in np.vstack((xx.ravel(), yy.ravel())).T])"
   ]
  },
  {
   "cell_type": "code",
   "execution_count": 16,
   "metadata": {},
   "outputs": [
    {
     "data": {
      "image/png": "[encoded data removed]",
      "text/plain": [
       "<Figure size 432x288 with 2 Axes>"
      ]
     },
     "metadata": {
      "needs_background": "light"
     },
     "output_type": "display_data"
    }
   ],
   "source": [
    "ax = plt.subplot(1,2,1)\n",
    "plt.contourf(xx, yy, np.reshape(y_r, xx.shape))\n",
    "plt.scatter(*x[y == -1].T)\n",
    "plt.scatter(*x[y == 1].T)\n",
    "plt.subplot(1, 2, 2)\n",
    "plt.contourf(xx, yy, np.reshape(y_rlin, xx.shape))\n",
    "plt.scatter(*x[y == -1].T)\n",
    "plt.scatter(*x[y == 1].T)\n",
    "plt.show()"
   ]
  },
  {
   "cell_type": "code",
   "execution_count": 17,
   "metadata": {},
   "outputs": [
    {
     "data": {
      "text/plain": [
       "array([[-20.58929877],\n",
       "       [-62.23741409],\n",
       "       [-66.58989781],\n",
       "       [-39.26949511],\n",
       "       [-52.35932681],\n",
       "       [ 32.84600627],\n",
       "       [ 17.57183757],\n",
       "       [ 45.98440877],\n",
       "       [ 59.10662101],\n",
       "       [ 46.01678931]])"
      ]
     },
     "execution_count": 17,
     "metadata": {},
     "output_type": "execute_result"
    }
   ],
   "source": [
    "alpha"
   ]
  },
  {
   "cell_type": "code",
   "execution_count": 18,
   "metadata": {},
   "outputs": [
    {
     "data": {
      "text/plain": [
       "array([[ -256.],\n",
       "       [-6144.],\n",
       "       [    0.],\n",
       "       [ 4096.],\n",
       "       [ -256.],\n",
       "       [-2048.],\n",
       "       [ 1152.],\n",
       "       [  256.],\n",
       "       [ -512.],\n",
       "       [  768.]])"
      ]
     },
     "execution_count": 18,
     "metadata": {},
     "output_type": "execute_result"
    }
   ],
   "source": [
    "alphalin"
   ]
  },
  {
   "cell_type": "code",
   "execution_count": null,
   "metadata": {},
   "outputs": [],
   "source": []
  }
 ],
 "metadata": {
  "kernelspec": {
   "display_name": "Python 3",
   "language": "python",
   "name": "python3"
  },
  "language_info": {
   "codemirror_mode": {
    "name": "ipython",
    "version": 3
   },
   "file_extension": ".py",
   "mimetype": "text/x-python",
   "name": "python",
   "nbconvert_exporter": "python",
   "pygments_lexer": "ipython3",
   "version": "3.7.5"
  }
 },
 "nbformat": 4,
 "nbformat_minor": 2
}
